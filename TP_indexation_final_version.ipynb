{
 "cells": [
  {
   "cell_type": "markdown",
   "metadata": {
    "slideshow": {
     "slide_type": "slide"
    }
   },
   "source": [
    "# Quelques exemples de générations d'articles à travers un \n",
    "\n",
    "### Auteur : Boubacar TRAORE"
   ]
  },
  {
   "cell_type": "code",
   "execution_count": 6,
   "metadata": {
    "slideshow": {
     "slide_type": "-"
    }
   },
   "outputs": [
    {
     "data": {
      "text/html": [
       "\n",
       "    <style>\n",
       "    \n",
       "    .rendered_html {\n",
       "         font-size: 22px; \n",
       "         font-family: Garamond;\n",
       "         line-height: 140%;\n",
       "         text-align: justify;\n",
       "         text-justify: inter-word;\n",
       "    }\n",
       "\n",
       "    div.text_cell_render h1 { /* Main titles bigger, centered */\n",
       "        text-align:center;\n",
       "    # }\n",
       "    \n",
       "    </style>"
      ],
      "text/plain": [
       "<IPython.core.display.HTML object>"
      ]
     },
     "metadata": {},
     "output_type": "display_data"
    }
   ],
   "source": [
    "# Changement de la police utilisée et de sa taille\n",
    "from IPython.core.display import HTML, display\n",
    "from indexation import change_font\n",
    "display(HTML(change_font()))"
   ]
  },
  {
   "cell_type": "code",
   "execution_count": 7,
   "metadata": {},
   "outputs": [
    {
     "data": {
      "text/html": [
       "<div id=\"my_id_menu_nb\">run previous cell, wait for 2 seconds</div>\n",
       "<script>\n",
       "function repeat_indent_string(n){\n",
       "    var a = \"\" ;\n",
       "    for ( ; n > 0 ; --n)\n",
       "        a += \"    \";\n",
       "    return a;\n",
       "}\n",
       "// look up into all sections and builds an automated menu //\n",
       "var update_menu_string = function(begin, lfirst, llast, sformat, send, keep_item, begin_format, end_format) {\n",
       "    var anchors = document.getElementsByClassName(\"section\");\n",
       "    if (anchors.length == 0) {\n",
       "        anchors = document.getElementsByClassName(\"text_cell_render rendered_html\");\n",
       "    }\n",
       "    var i,t;\n",
       "    var text_menu = begin;\n",
       "    var text_memo = \"<pre>\\nlength:\" + anchors.length + \"\\n\";\n",
       "    var ind = \"\";\n",
       "    var memo_level = 1;\n",
       "    var href;\n",
       "    var tags = [];\n",
       "    var main_item = 0;\n",
       "    var format_open = 0;\n",
       "    for (i = 0; i <= llast; i++)\n",
       "        tags.push(\"h\" + i);\n",
       "\n",
       "    for (i = 0; i < anchors.length; i++) {\n",
       "        text_memo += \"**\" + anchors[i].id + \"--\\n\";\n",
       "\n",
       "        var child = null;\n",
       "        for(t = 0; t < tags.length; t++) {\n",
       "            var r = anchors[i].getElementsByTagName(tags[t]);\n",
       "            if (r.length > 0) {\n",
       "child = r[0];\n",
       "break;\n",
       "            }\n",
       "        }\n",
       "        if (child == null) {\n",
       "            text_memo += \"null\\n\";\n",
       "            continue;\n",
       "        }\n",
       "        if (anchors[i].hasAttribute(\"id\")) {\n",
       "            // when converted in RST\n",
       "            href = anchors[i].id;\n",
       "            text_memo += \"#1-\" + href;\n",
       "            // passer à child suivant (le chercher)\n",
       "        }\n",
       "        else if (child.hasAttribute(\"id\")) {\n",
       "            // in a notebook\n",
       "            href = child.id;\n",
       "            text_memo += \"#2-\" + href;\n",
       "        }\n",
       "        else {\n",
       "            text_memo += \"#3-\" + \"*\" + \"\\n\";\n",
       "            continue;\n",
       "        }\n",
       "        var title = child.textContent;\n",
       "        var level = parseInt(child.tagName.substring(1,2));\n",
       "\n",
       "        text_memo += \"--\" + level + \"?\" + lfirst + \"--\" + title + \"\\n\";\n",
       "\n",
       "        if ((level < lfirst) || (level > llast)) {\n",
       "            continue ;\n",
       "        }\n",
       "        if (title.endsWith('¶')) {\n",
       "            title = title.substring(0,title.length-1).replace(\"<\", \"&lt;\")\n",
       "         .replace(\">\", \"&gt;\").replace(\"&\", \"&amp;\");\n",
       "        }\n",
       "        if (title.length == 0) {\n",
       "            continue;\n",
       "        }\n",
       "\n",
       "        while (level < memo_level) {\n",
       "            text_menu += end_format + \"</ul>\\n\";\n",
       "            format_open -= 1;\n",
       "            memo_level -= 1;\n",
       "        }\n",
       "        if (level == lfirst) {\n",
       "            main_item += 1;\n",
       "        }\n",
       "        if (keep_item != -1 && main_item != keep_item + 1) {\n",
       "            // alert(main_item + \" - \" + level + \" - \" + keep_item);\n",
       "            continue;\n",
       "        }\n",
       "        while (level > memo_level) {\n",
       "            text_menu += \"<ul>\\n\";\n",
       "            memo_level += 1;\n",
       "        }\n",
       "        text_menu += repeat_indent_string(level-2);\n",
       "        text_menu += begin_format + sformat.replace(\"__HREF__\", href).replace(\"__TITLE__\", title);\n",
       "        format_open += 1;\n",
       "    }\n",
       "    while (1 < memo_level) {\n",
       "        text_menu += end_format + \"</ul>\\n\";\n",
       "        memo_level -= 1;\n",
       "        format_open -= 1;\n",
       "    }\n",
       "    text_menu += send;\n",
       "    //text_menu += \"\\n\" + text_memo;\n",
       "\n",
       "    while (format_open > 0) {\n",
       "        text_menu += end_format;\n",
       "        format_open -= 1;\n",
       "    }\n",
       "    return text_menu;\n",
       "};\n",
       "var update_menu = function() {\n",
       "    var sbegin = \"\";\n",
       "    var sformat = '<a href=\"#__HREF__\">__TITLE__</a>';\n",
       "    var send = \"\";\n",
       "    var begin_format = '<li>';\n",
       "    var end_format = '</li>';\n",
       "    var keep_item = -1;\n",
       "    var text_menu = update_menu_string(sbegin, 2, 4, sformat, send, keep_item,\n",
       "       begin_format, end_format);\n",
       "    var menu = document.getElementById(\"my_id_menu_nb\");\n",
       "    menu.innerHTML=text_menu;\n",
       "};\n",
       "window.setTimeout(update_menu,2000);\n",
       "            </script>"
      ],
      "text/plain": [
       "<IPython.core.display.HTML object>"
      ]
     },
     "execution_count": 7,
     "metadata": {},
     "output_type": "execute_result"
    }
   ],
   "source": [
    "# Ajout du sommaire\n",
    "from jyquickhelper import add_notebook_menu\n",
    "add_notebook_menu()"
   ]
  },
  {
   "cell_type": "code",
   "execution_count": 8,
   "metadata": {},
   "outputs": [
    {
     "data": {
      "text/html": [
       "        <script type=\"text/javascript\">\n",
       "        window.PlotlyConfig = {MathJaxConfig: 'local'};\n",
       "        if (window.MathJax) {MathJax.Hub.Config({SVG: {font: \"STIX-Web\"}});}\n",
       "        if (typeof require !== 'undefined') {\n",
       "        require.undef(\"plotly\");\n",
       "        requirejs.config({\n",
       "            paths: {\n",
       "                'plotly': ['https://cdn.plot.ly/plotly-latest.min']\n",
       "            }\n",
       "        });\n",
       "        require(['plotly'], function(Plotly) {\n",
       "            window._Plotly = Plotly;\n",
       "        });\n",
       "        }\n",
       "        </script>\n",
       "        "
      ]
     },
     "metadata": {},
     "output_type": "display_data"
    }
   ],
   "source": [
    "# Importation des libraries nécessaires\n",
    "import os, re\n",
    "import numpy as np\n",
    "import pandas as pd\n",
    "\n",
    "from nltk.corpus import stopwords, wordnet\n",
    "from nltk.stem import PorterStemmer\n",
    "from nltk.stem import WordNetLemmatizer\n",
    "from nltk import pos_tag\n",
    "\n",
    "import multiprocessing as mp #paralleliser\n",
    "import pickle as pkl #pour serialiser\n",
    "\n",
    "from sklearn.feature_extraction.text import TfidfVectorizer, CountVectorizer #tfidf\n",
    "from sklearn.metrics.pairwise        import cosine_similarity #similarite cosine\n",
    "from collections import defaultdict\n",
    "from num2words   import num2words\n",
    "from scipy.sparse import coo_matrix\n",
    "\n",
    "#librairies pour les graphiques\n",
    "from plotly.offline import iplot, init_notebook_mode\n",
    "import plotly.graph_objs as go\n",
    "\n",
    "init_notebook_mode(connected=True)"
   ]
  },
  {
   "cell_type": "markdown",
   "metadata": {},
   "source": [
    "## 1. Indexation"
   ]
  },
  {
   "cell_type": "markdown",
   "metadata": {},
   "source": [
    "### 1.1. Lecture du corpus entier (avec titre)"
   ]
  },
  {
   "cell_type": "code",
   "execution_count": 9,
   "metadata": {},
   "outputs": [],
   "source": [
    "# Définition des répertoires où sont stockées nos données\n",
    "data_dir = 'data'   # Spécification du dossier contenant les articles à parser\n",
    "cwd = os.getcwd() + \"/\" + data_dir # cwd contient le chemin d'accès vers le dossier 'data'"
   ]
  },
  {
   "cell_type": "markdown",
   "metadata": {},
   "source": [
    "Nous allons parcourir tous les articles qui se trouvent dans les dossiers nommés d'après leurs auteurs. Pour cela, nous créons deux listes. La première nommée \"documents_infos\" qui va contenir les informations disponibles de chaque article (titre et nom de l'auteur) sous forme de dictionnaire et la seconde liste nommée \"documents\" contient le corps de chaque article stockée sous format texte (str). "
   ]
  },
  {
   "cell_type": "code",
   "execution_count": 10,
   "metadata": {},
   "outputs": [],
   "source": [
    "documents_infos, documents  = [], []\n",
    "for folder in os.listdir(cwd):\n",
    "    for file in os.listdir(cwd + \"/\" + folder):\n",
    "        with open(data_dir + '/' + folder + '/' + file, 'r') as f:\n",
    "            lines = f.readlines()\n",
    "            infos = {'title': lines[0].strip(), 'author': folder}\n",
    "            documents_infos.append(infos)\n",
    "            documents.append(''.join(lines[1:]))"
   ]
  },
  {
   "cell_type": "code",
   "execution_count": 11,
   "metadata": {},
   "outputs": [
    {
     "data": {
      "text/plain": [
       "2500"
      ]
     },
     "execution_count": 11,
     "metadata": {},
     "output_type": "execute_result"
    }
   ],
   "source": [
    "len(documents)"
   ]
  },
  {
   "cell_type": "markdown",
   "metadata": {},
   "source": [
    "Nous avons identifié 2500 articles. Essayons maintenant d'afficher le contenu (limité aux 500 premiers caractères) et les informations d'un article aléatoire."
   ]
  },
  {
   "cell_type": "code",
   "execution_count": 12,
   "metadata": {},
   "outputs": [],
   "source": [
    "np.random.seed(777)\n",
    "id_doc = np.random.randint(0,len(documents),1)[0]"
   ]
  },
  {
   "cell_type": "code",
   "execution_count": 13,
   "metadata": {},
   "outputs": [
    {
     "data": {
      "text/plain": [
       "{'title': 'Fallout from a scandal involving late allocation of trades at Jardine Fleming was still attracting attention in Hong Kong on Wednesday, but the company escaped further sanctions and said business continued as usual.',\n",
       " 'author': 'SarahDavison'}"
      ]
     },
     "execution_count": 13,
     "metadata": {},
     "output_type": "execute_result"
    }
   ],
   "source": [
    "documents_infos[id_doc]"
   ]
  },
  {
   "cell_type": "code",
   "execution_count": 14,
   "metadata": {},
   "outputs": [
    {
     "name": "stdout",
     "output_type": "stream",
     "text": [
      "\"We've had some redemptions. We've also had some subscriptions,\" a company spokesman told Reuters. \"The business pattern is very much as usual.\"\n",
      "Jardine Fleming retained its seat on the executive committee of the domestic industry association, the Hong Kong Investment Funds Association, despite media reports that moves were afoot to knock the company off the committee.\n",
      "In election results released on Wednesday, Jardine Fleming continues as one of 12 member firms with a representative on the boar....\n"
     ]
    }
   ],
   "source": [
    "print(documents[id_doc][:500] + '....')"
   ]
  },
  {
   "cell_type": "markdown",
   "metadata": {},
   "source": [
    "Tout semble bien stocké. Procédons maintenant au nettoyage des documents de notre corpus. "
   ]
  },
  {
   "cell_type": "markdown",
   "metadata": {},
   "source": [
    "### 1.2. Nettoyage des documents"
   ]
  },
  {
   "cell_type": "markdown",
   "metadata": {},
   "source": [
    "Pour faire une bonne indexation, il est nécessaire de créer un vocabulaire de mots à partir de l'ensemble des documents disponibles. Les mots contenus dans ce vocabulaire doivent être pertinents car le vocabulaire nous servira de référence tout au long du travail. Il faut alors nettoyer chaque document en enlevant les informations redondantes que tous les autres documents possèdent sûrement. Nous allons donc :\n",
    "* supprimer les ponctuations à cause de leur apparition dans tous les langages\n",
    "* supprimer les mots qui n'ont qu'un seul caractère car une seule lettre n'est d'aucune utilité pour identifier un document\n",
    "* remettre tous les mots en miniscule afin d'éviter la sensibilité à la casse des mots du vocabulaire\n",
    "* transformer les chiffres d'un document en lettre (1000 --> 'one thousand')\n",
    "* supprimer les stop_words de la langue anglaise contenant les mots usuels utilisés fréquemment dans la langue (ex: my, our, them, etc..)\n",
    "* faire de la lemmatisation"
   ]
  },
  {
   "cell_type": "markdown",
   "metadata": {},
   "source": [
    "Il est important de convertir les chiffres présents dans notre corpus en lettre pour qu'il n'y ait pas de différence de traitement de l'algorithme d'indexation entre une requête contenant '21' et une autre contenant 'twenty one'."
   ]
  },
  {
   "cell_type": "markdown",
   "metadata": {},
   "source": [
    "La lemmatisation consiste généralement à transformer les mots correctement en utilisant un vocabulaire et une analyse morphologique des mots, visant normalement à supprimer les terminaisons inflexibles uniquement et à rendre la forme de base ou de dictionnaire d'un mot (ex : 'goes', 'went' et 'go' vont compter uniquement pour un seul mot dans le vocabulaire). De plus, nous tenons compte du POS (Part Of Speech) permettant de détecter le contexte dans lequel un mot est utilisé afin d'opérer une meilleure transformation (transformation selon que le mot soit employé comme un verbe, un nom, etc...). En voici un exemple :"
   ]
  },
  {
   "cell_type": "code",
   "execution_count": 15,
   "metadata": {},
   "outputs": [],
   "source": [
    "# Soit la fonction permettant de détecter le POS d'un mot\n",
    "def convert_pos(pos):\n",
    "    if pos.startswith('J'): return wordnet.ADJ\n",
    "    if pos.startswith('V'): return wordnet.VERB\n",
    "    if pos.startswith('R'): return wordnet.ADV\n",
    "    return wordnet.NOUN"
   ]
  },
  {
   "cell_type": "code",
   "execution_count": 16,
   "metadata": {
    "slideshow": {
     "slide_type": "slide"
    }
   },
   "outputs": [
    {
     "name": "stdout",
     "output_type": "stream",
     "text": [
      "I  ---->  I\n",
      "was  ---->  be\n",
      "marketing  ---->  market\n",
      "------------------------------------------\n",
      "I  ---->  I\n",
      "am  ---->  be\n",
      "going  ---->  go\n",
      "to  ---->  to\n",
      "the  ---->  the\n",
      "marketing  ---->  marketing\n",
      "service  ---->  service\n"
     ]
    }
   ],
   "source": [
    "sentence_1 = \"I was marketing\"\n",
    "sentence_2 = \"I am going to the marketing service\"\n",
    "tags_1 = pos_tag(sentence_1.split(' '))\n",
    "tags_2 = pos_tag(sentence_2.split(' '))\n",
    "\n",
    "lemmatizer = WordNetLemmatizer() # definir le lemmatiseur\n",
    "for word, pos in tags_1:\n",
    "    print(word, ' ----> ', lemmatizer.lemmatize(word, convert_pos(pos)))\n",
    "print('------------------------------------------')\n",
    "for word, pos in tags_2:\n",
    "    print(word, ' ----> ', lemmatizer.lemmatize(word, convert_pos(pos)))"
   ]
  },
  {
   "cell_type": "markdown",
   "metadata": {
    "slideshow": {
     "slide_type": "subslide"
    }
   },
   "source": [
    "Comme le mot \"marketing\", est utilisé comme un verbe dans la première phrase et comme un nom dans la seconde, le lemmatiseur tient compte de cette différence dans la transformation. C'est pourquoi il est très utile de garder les mots dans le bon ordre (afin de préserver le contexte) avant de lemmatiser."
   ]
  },
  {
   "cell_type": "markdown",
   "metadata": {},
   "source": [
    "Nous définissons ainsi la fonction de nettoyage finale d'un document entier en tenant compte de tous les points évoqués précédemment."
   ]
  },
  {
   "cell_type": "code",
   "execution_count": 17,
   "metadata": {},
   "outputs": [
    {
     "data": {
      "text/plain": [
       "179"
      ]
     },
     "execution_count": 17,
     "metadata": {},
     "output_type": "execute_result"
    }
   ],
   "source": [
    "#Définition des stopwords de la langue anglaise\n",
    "english_stopwords = stopwords.words('english')\n",
    "len(english_stopwords) # 179 mots à banir de notre vocabulaire"
   ]
  },
  {
   "cell_type": "code",
   "execution_count": 18,
   "metadata": {},
   "outputs": [],
   "source": [
    "def try_convert_number(word):\n",
    "    try:\n",
    "        return num2words(int(word))\n",
    "    except:\n",
    "        return word"
   ]
  },
  {
   "cell_type": "code",
   "execution_count": 19,
   "metadata": {},
   "outputs": [],
   "source": [
    "def clean_document(doc):\n",
    "    doc   = re.sub(r'\\W+', ' ', doc) # Suppression des ponctuations...\n",
    "    words = doc.lower().strip().split(' ') # tokenisation des mots\n",
    "    tags  = pos_tag(words)  # Contient les POS de chaque mot dans le document\n",
    "    lemmatised_words = []\n",
    "    for word, pos in tags:\n",
    "        lemmatised_words.append(lemmatizer.lemmatize(word, convert_pos(pos)))\n",
    "    words = [try_convert_number(word) for word in lemmatised_words if word not in english_stopwords and len(word)>1]\n",
    "    return ' '.join(words)"
   ]
  },
  {
   "cell_type": "code",
   "execution_count": 20,
   "metadata": {},
   "outputs": [],
   "source": [
    "cleaned_docs = []\n",
    "for doc in documents:\n",
    "    cleaned_docs.append(clean_document(doc))"
   ]
  },
  {
   "cell_type": "markdown",
   "metadata": {},
   "source": [
    "Voyons voir les résultats sur un document aléatoire. Nous regardons le document original face au document nettoyé."
   ]
  },
  {
   "cell_type": "code",
   "execution_count": 21,
   "metadata": {},
   "outputs": [],
   "source": [
    "np.random.seed(24)\n",
    "id_doc = np.random.randint(0,len(documents),1)[0]"
   ]
  },
  {
   "cell_type": "code",
   "execution_count": 22,
   "metadata": {},
   "outputs": [
    {
     "name": "stdout",
     "output_type": "stream",
     "text": [
      "The total was down 75 percent from a similar Federal Communications Commission auction that raised $10.2 billion last May. The average price for a license to provide \"personal communications services,\" or PCS, tumbled more than 90 percent.\n",
      "PCS technology is expected to turn the wireless phone into a mass-market product, allowing consumers to use different communications services -- such as phone, paging, fax and Internet access -- through a single handheld device.\n",
      "The drop reflected the flood of....\n"
     ]
    }
   ],
   "source": [
    "print(documents[id_doc][:500] + '....')"
   ]
  },
  {
   "cell_type": "code",
   "execution_count": 23,
   "metadata": {},
   "outputs": [
    {
     "name": "stdout",
     "output_type": "stream",
     "text": [
      "total seventy-five percent similar federal communication commission auction raise ten billion last may average price license provide personal communication service pc tumble ninety percent pc technology expect turn wireless phone mass market product allow consumer use different communication service phone page fax internet access single handheld device drop reflect flood new entrant wireless phone market dearth new money sky high price pay last year pcs sale small slice airwave cover new license....\n"
     ]
    }
   ],
   "source": [
    "print(cleaned_docs[id_doc][:500] + '....')"
   ]
  },
  {
   "cell_type": "markdown",
   "metadata": {},
   "source": [
    "Le nettoyage semble être bien fait. Les verbes, pronoms, ponctuations ont été supprimés. La lemmatisation est également bien appliquée ('using' devient 'use' dans le 2e paragraphe). Quant aux chiffres, nous voyons bien que 2000 a été remplacé par 'two thousand', ce qui est beaucoup plus pertinent pour la construction du dictionnaire."
   ]
  },
  {
   "cell_type": "markdown",
   "metadata": {},
   "source": [
    "### 1.3. Création de l'index"
   ]
  },
  {
   "cell_type": "markdown",
   "metadata": {},
   "source": [
    "Nous allons commencer par créer un vocabulaire, qui n'est rien d'autre qu'un ensemble (au sens mathématique où il n'y a pas de répétition d'un élément dans l'ensemble) composé de tous les mots contenus dans nos documents nettoyés (cleaned_docs)."
   ]
  },
  {
   "cell_type": "code",
   "execution_count": 24,
   "metadata": {},
   "outputs": [],
   "source": [
    "# Création du vocabulaire\n",
    "vocabulary = set()\n",
    "for doc in cleaned_docs:\n",
    "    for word in doc.split(' '):\n",
    "        vocabulary.add(word)"
   ]
  },
  {
   "cell_type": "code",
   "execution_count": 25,
   "metadata": {},
   "outputs": [
    {
     "data": {
      "text/plain": [
       "22241"
      ]
     },
     "execution_count": 25,
     "metadata": {},
     "output_type": "execute_result"
    }
   ],
   "source": [
    "len(vocabulary)"
   ]
  },
  {
   "cell_type": "markdown",
   "metadata": {},
   "source": [
    "Nous avons un vocabulaire de 22 241 mots et les 5 premiers sont affichés. Place à la créationde l'index grâce à ce vocabulaire."
   ]
  },
  {
   "cell_type": "markdown",
   "metadata": {},
   "source": [
    "L'index que nous allons créer n'est rien d'autre qu'un dictionnaire python (ou table de hachage) où :\n",
    "* la clé de chaque élément du dictionnaire est un mot du vocabulaire précédemment créé\n",
    "* la valeur associé à chaque clé est une liste de dictionnaire dont la longueur correspond au nombre de documents où apparait la clé de l'index (mot du vocabulaire). Chaque dictionnaire dans cette liste correspond à un document et est composée de 3 éléments : le numéro du document en question où apparait la clé de l'index, le nombre de fois où apparait cette clé dans ce document et les positions auxquelles le mot apparait. "
   ]
  },
  {
   "cell_type": "code",
   "execution_count": 26,
   "metadata": {},
   "outputs": [
    {
     "data": {
      "text/plain": [
       "22241"
      ]
     },
     "execution_count": 26,
     "metadata": {},
     "output_type": "execute_result"
    }
   ],
   "source": [
    "len(vocabulary)"
   ]
  },
  {
   "cell_type": "markdown",
   "metadata": {},
   "source": [
    "Passons maintenant à l'indexation."
   ]
  },
  {
   "cell_type": "code",
   "execution_count": 84,
   "metadata": {},
   "outputs": [],
   "source": [
    "index = defaultdict(list) #indiquer que chaque valeur associée à une clée est bien une liste\n",
    "N = len(cleaned_docs)\n",
    "for i in range(N):\n",
    "    doc_words = cleaned_docs[i].split(' ')\n",
    "    nb_words_in_doc = len(doc_words)\n",
    "    for word in np.unique(doc_words):\n",
    "        if word in vocabulary:\n",
    "            idx = [m.start() for m in re.finditer(word, cleaned_docs[i])]\n",
    "            index[word].append({'num_doc': i, 'nb_fois' : len(idx), 'pos': idx, 'len_doc': nb_words_in_doc})"
   ]
  },
  {
   "cell_type": "code",
   "execution_count": 74,
   "metadata": {},
   "outputs": [
    {
     "name": "stdout",
     "output_type": "stream",
     "text": [
      "11.2 s ± 52.4 ms per loop (mean ± std. dev. of 7 runs, 1 loop each)\n"
     ]
    }
   ],
   "source": [
    "%%timeit\n",
    "index = defaultdict(list) #indiquer que chaque valeur associée à une clée est bien une liste\n",
    "for i in range(len(cleaned_docs)):\n",
    "    doc_words = cleaned_docs[i].split(' ')\n",
    "    nb_words_in_doc = len(doc_words)\n",
    "    for word in np.unique(doc_words):\n",
    "        if word in vocabulary:\n",
    "            idx = [m.start() for m in re.finditer(word, cleaned_docs[i])]\n",
    "            index[word].append({'num_doc': i, 'nb_fois' : len(idx), 'pos': idx, 'len_doc': nb_words_in_doc})"
   ]
  },
  {
   "cell_type": "markdown",
   "metadata": {},
   "source": [
    "L'index a bien été créé. A titre d'exemple, le mot 'sunny' apparait une fois dans le document 149 à la position 1605, il apparait 2 fois dans le document 1609 aux positions indiqués par la clé 'pos'. Voyons voir ce document qui semble pertienent pour ce mot parmi les autres."
   ]
  },
  {
   "cell_type": "code",
   "execution_count": 31,
   "metadata": {},
   "outputs": [
    {
     "name": "stdout",
     "output_type": "stream",
     "text": [
      "The influential index jumped 53.38 points to end at 6054.86 in brisk turnover of 129.3 million shares worth C$2.1 billion ($1.55 billion).\n",
      "It busted through a previous record of 6018.65 points set on November 28, 1996, partly powered by a Wall Street rally.\n",
      "Wall Street rose 53.11 points to close at 6762.29 on stronger-than-expected fourth quarter earnings from computer chip maker Intel Corp. Earnings per share jumped to $2.13 from a year-earlier $0.98.\n",
      "Today's rally in Toronto was also aided by the start of the 1996 pension season, when Canadians rush into last-minute investing in tax sheltered funds before the traditional end-February deadline.\n",
      "\"The RRSP (Registered Retirement Savings Plan) season is beginning,\" said Midland Walwyn's director of private client investing Dunnery Best.\n",
      "Fund manager Josef Schachter of Schachter Asset Management said that managers have been cautiously eyeing the market and waiting on the sidelines but have been forced to invest since more fund money will ....\n"
     ]
    }
   ],
   "source": [
    "print(documents[1694][:1000] + '....')"
   ]
  },
  {
   "cell_type": "markdown",
   "metadata": {},
   "source": [
    "Jetons un coup d'oeil sur la répartition des mots de notre index selon leur occurences (barplot)"
   ]
  },
  {
   "cell_type": "code",
   "execution_count": 32,
   "metadata": {
    "slideshow": {
     "slide_type": "fragment"
    }
   },
   "outputs": [
    {
     "data": {
      "application/vnd.plotly.v1+json": {
       "config": {
        "linkText": "Export to plot.ly",
        "plotlyServerURL": "https://plot.ly",
        "showLink": false
       },
       "data": [
        {
         "type": "bar",
         "x": [
          "one",
          "percent",
          "make",
          "last",
          "add",
          "high",
          "issue",
          "day",
          "international",
          "late",
          "decline",
          "far",
          "like",
          "earlier",
          "forty",
          "open",
          "interview",
          "estimate",
          "monday",
          "pound",
          "eighty",
          "leave",
          "find",
          "least",
          "name",
          "forty-two",
          "board",
          "city",
          "hard",
          "asia",
          "north",
          "carry",
          "ninety-three",
          "commercial",
          "cannot",
          "family",
          "ever",
          "airline",
          "machine",
          "administration",
          "nothing",
          "lawyer",
          "police",
          "live",
          "drug",
          "passenger",
          "presence",
          "airport",
          "bottom",
          "california",
          "edge",
          "mine",
          "flight",
          "kill",
          "blow",
          "else",
          "check",
          "mexico",
          "person",
          "colombia",
          "originally",
          "arrest",
          "los",
          "angeles",
          "golden",
          "discover",
          "multiple",
          "colombian",
          "bag",
          "pilot",
          "detain",
          "prosecutor",
          "pack",
          "grade",
          "exactly",
          "career",
          "kg",
          "enforcement",
          "inside",
          "cartel",
          "cocaine",
          "false",
          "bogota",
          "passport",
          "frame",
          "dakota",
          "ace",
          "aviator",
          "mexican",
          "clothes",
          "dale",
          "panama",
          "bradley",
          "interpreter",
          "jeopardy",
          "heroin",
          "insignia",
          "brandt",
          "overcoat",
          "dea"
         ],
         "y": [
          2331,
          1502,
          1349,
          1303,
          1022,
          979,
          674,
          637,
          598,
          561,
          557,
          531,
          516,
          491,
          478,
          436,
          434,
          399,
          388,
          377,
          338,
          337,
          324,
          320,
          317,
          314,
          279,
          266,
          235,
          234,
          229,
          222,
          219,
          203,
          172,
          170,
          130,
          118,
          114,
          113,
          112,
          104,
          102,
          101,
          97,
          95,
          88,
          82,
          78,
          78,
          78,
          73,
          65,
          62,
          56,
          55,
          53,
          52,
          50,
          50,
          47,
          45,
          40,
          39,
          38,
          38,
          36,
          35,
          33,
          32,
          30,
          28,
          28,
          28,
          26,
          25,
          23,
          21,
          20,
          19,
          18,
          18,
          16,
          12,
          12,
          11,
          8,
          6,
          6,
          6,
          4,
          4,
          3,
          3,
          3,
          3,
          2,
          1,
          1,
          1
         ]
        }
       ],
       "layout": {
        "autosize": true,
        "template": {
         "data": {
          "bar": [
           {
            "error_x": {
             "color": "#2a3f5f"
            },
            "error_y": {
             "color": "#2a3f5f"
            },
            "marker": {
             "line": {
              "color": "#E5ECF6",
              "width": 0.5
             }
            },
            "type": "bar"
           }
          ],
          "barpolar": [
           {
            "marker": {
             "line": {
              "color": "#E5ECF6",
              "width": 0.5
             }
            },
            "type": "barpolar"
           }
          ],
          "carpet": [
           {
            "aaxis": {
             "endlinecolor": "#2a3f5f",
             "gridcolor": "white",
             "linecolor": "white",
             "minorgridcolor": "white",
             "startlinecolor": "#2a3f5f"
            },
            "baxis": {
             "endlinecolor": "#2a3f5f",
             "gridcolor": "white",
             "linecolor": "white",
             "minorgridcolor": "white",
             "startlinecolor": "#2a3f5f"
            },
            "type": "carpet"
           }
          ],
          "choropleth": [
           {
            "colorbar": {
             "outlinewidth": 0,
             "ticks": ""
            },
            "type": "choropleth"
           }
          ],
          "contour": [
           {
            "colorbar": {
             "outlinewidth": 0,
             "ticks": ""
            },
            "colorscale": [
             [
              0,
              "#0d0887"
             ],
             [
              0.1111111111111111,
              "#46039f"
             ],
             [
              0.2222222222222222,
              "#7201a8"
             ],
             [
              0.3333333333333333,
              "#9c179e"
             ],
             [
              0.4444444444444444,
              "#bd3786"
             ],
             [
              0.5555555555555556,
              "#d8576b"
             ],
             [
              0.6666666666666666,
              "#ed7953"
             ],
             [
              0.7777777777777778,
              "#fb9f3a"
             ],
             [
              0.8888888888888888,
              "#fdca26"
             ],
             [
              1,
              "#f0f921"
             ]
            ],
            "type": "contour"
           }
          ],
          "contourcarpet": [
           {
            "colorbar": {
             "outlinewidth": 0,
             "ticks": ""
            },
            "type": "contourcarpet"
           }
          ],
          "heatmap": [
           {
            "colorbar": {
             "outlinewidth": 0,
             "ticks": ""
            },
            "colorscale": [
             [
              0,
              "#0d0887"
             ],
             [
              0.1111111111111111,
              "#46039f"
             ],
             [
              0.2222222222222222,
              "#7201a8"
             ],
             [
              0.3333333333333333,
              "#9c179e"
             ],
             [
              0.4444444444444444,
              "#bd3786"
             ],
             [
              0.5555555555555556,
              "#d8576b"
             ],
             [
              0.6666666666666666,
              "#ed7953"
             ],
             [
              0.7777777777777778,
              "#fb9f3a"
             ],
             [
              0.8888888888888888,
              "#fdca26"
             ],
             [
              1,
              "#f0f921"
             ]
            ],
            "type": "heatmap"
           }
          ],
          "heatmapgl": [
           {
            "colorbar": {
             "outlinewidth": 0,
             "ticks": ""
            },
            "colorscale": [
             [
              0,
              "#0d0887"
             ],
             [
              0.1111111111111111,
              "#46039f"
             ],
             [
              0.2222222222222222,
              "#7201a8"
             ],
             [
              0.3333333333333333,
              "#9c179e"
             ],
             [
              0.4444444444444444,
              "#bd3786"
             ],
             [
              0.5555555555555556,
              "#d8576b"
             ],
             [
              0.6666666666666666,
              "#ed7953"
             ],
             [
              0.7777777777777778,
              "#fb9f3a"
             ],
             [
              0.8888888888888888,
              "#fdca26"
             ],
             [
              1,
              "#f0f921"
             ]
            ],
            "type": "heatmapgl"
           }
          ],
          "histogram": [
           {
            "marker": {
             "colorbar": {
              "outlinewidth": 0,
              "ticks": ""
             }
            },
            "type": "histogram"
           }
          ],
          "histogram2d": [
           {
            "colorbar": {
             "outlinewidth": 0,
             "ticks": ""
            },
            "colorscale": [
             [
              0,
              "#0d0887"
             ],
             [
              0.1111111111111111,
              "#46039f"
             ],
             [
              0.2222222222222222,
              "#7201a8"
             ],
             [
              0.3333333333333333,
              "#9c179e"
             ],
             [
              0.4444444444444444,
              "#bd3786"
             ],
             [
              0.5555555555555556,
              "#d8576b"
             ],
             [
              0.6666666666666666,
              "#ed7953"
             ],
             [
              0.7777777777777778,
              "#fb9f3a"
             ],
             [
              0.8888888888888888,
              "#fdca26"
             ],
             [
              1,
              "#f0f921"
             ]
            ],
            "type": "histogram2d"
           }
          ],
          "histogram2dcontour": [
           {
            "colorbar": {
             "outlinewidth": 0,
             "ticks": ""
            },
            "colorscale": [
             [
              0,
              "#0d0887"
             ],
             [
              0.1111111111111111,
              "#46039f"
             ],
             [
              0.2222222222222222,
              "#7201a8"
             ],
             [
              0.3333333333333333,
              "#9c179e"
             ],
             [
              0.4444444444444444,
              "#bd3786"
             ],
             [
              0.5555555555555556,
              "#d8576b"
             ],
             [
              0.6666666666666666,
              "#ed7953"
             ],
             [
              0.7777777777777778,
              "#fb9f3a"
             ],
             [
              0.8888888888888888,
              "#fdca26"
             ],
             [
              1,
              "#f0f921"
             ]
            ],
            "type": "histogram2dcontour"
           }
          ],
          "mesh3d": [
           {
            "colorbar": {
             "outlinewidth": 0,
             "ticks": ""
            },
            "type": "mesh3d"
           }
          ],
          "parcoords": [
           {
            "line": {
             "colorbar": {
              "outlinewidth": 0,
              "ticks": ""
             }
            },
            "type": "parcoords"
           }
          ],
          "pie": [
           {
            "automargin": true,
            "type": "pie"
           }
          ],
          "scatter": [
           {
            "marker": {
             "colorbar": {
              "outlinewidth": 0,
              "ticks": ""
             }
            },
            "type": "scatter"
           }
          ],
          "scatter3d": [
           {
            "line": {
             "colorbar": {
              "outlinewidth": 0,
              "ticks": ""
             }
            },
            "marker": {
             "colorbar": {
              "outlinewidth": 0,
              "ticks": ""
             }
            },
            "type": "scatter3d"
           }
          ],
          "scattercarpet": [
           {
            "marker": {
             "colorbar": {
              "outlinewidth": 0,
              "ticks": ""
             }
            },
            "type": "scattercarpet"
           }
          ],
          "scattergeo": [
           {
            "marker": {
             "colorbar": {
              "outlinewidth": 0,
              "ticks": ""
             }
            },
            "type": "scattergeo"
           }
          ],
          "scattergl": [
           {
            "marker": {
             "colorbar": {
              "outlinewidth": 0,
              "ticks": ""
             }
            },
            "type": "scattergl"
           }
          ],
          "scattermapbox": [
           {
            "marker": {
             "colorbar": {
              "outlinewidth": 0,
              "ticks": ""
             }
            },
            "type": "scattermapbox"
           }
          ],
          "scatterpolar": [
           {
            "marker": {
             "colorbar": {
              "outlinewidth": 0,
              "ticks": ""
             }
            },
            "type": "scatterpolar"
           }
          ],
          "scatterpolargl": [
           {
            "marker": {
             "colorbar": {
              "outlinewidth": 0,
              "ticks": ""
             }
            },
            "type": "scatterpolargl"
           }
          ],
          "scatterternary": [
           {
            "marker": {
             "colorbar": {
              "outlinewidth": 0,
              "ticks": ""
             }
            },
            "type": "scatterternary"
           }
          ],
          "surface": [
           {
            "colorbar": {
             "outlinewidth": 0,
             "ticks": ""
            },
            "colorscale": [
             [
              0,
              "#0d0887"
             ],
             [
              0.1111111111111111,
              "#46039f"
             ],
             [
              0.2222222222222222,
              "#7201a8"
             ],
             [
              0.3333333333333333,
              "#9c179e"
             ],
             [
              0.4444444444444444,
              "#bd3786"
             ],
             [
              0.5555555555555556,
              "#d8576b"
             ],
             [
              0.6666666666666666,
              "#ed7953"
             ],
             [
              0.7777777777777778,
              "#fb9f3a"
             ],
             [
              0.8888888888888888,
              "#fdca26"
             ],
             [
              1,
              "#f0f921"
             ]
            ],
            "type": "surface"
           }
          ],
          "table": [
           {
            "cells": {
             "fill": {
              "color": "#EBF0F8"
             },
             "line": {
              "color": "white"
             }
            },
            "header": {
             "fill": {
              "color": "#C8D4E3"
             },
             "line": {
              "color": "white"
             }
            },
            "type": "table"
           }
          ]
         },
         "layout": {
          "annotationdefaults": {
           "arrowcolor": "#2a3f5f",
           "arrowhead": 0,
           "arrowwidth": 1
          },
          "coloraxis": {
           "colorbar": {
            "outlinewidth": 0,
            "ticks": ""
           }
          },
          "colorscale": {
           "diverging": [
            [
             0,
             "#8e0152"
            ],
            [
             0.1,
             "#c51b7d"
            ],
            [
             0.2,
             "#de77ae"
            ],
            [
             0.3,
             "#f1b6da"
            ],
            [
             0.4,
             "#fde0ef"
            ],
            [
             0.5,
             "#f7f7f7"
            ],
            [
             0.6,
             "#e6f5d0"
            ],
            [
             0.7,
             "#b8e186"
            ],
            [
             0.8,
             "#7fbc41"
            ],
            [
             0.9,
             "#4d9221"
            ],
            [
             1,
             "#276419"
            ]
           ],
           "sequential": [
            [
             0,
             "#0d0887"
            ],
            [
             0.1111111111111111,
             "#46039f"
            ],
            [
             0.2222222222222222,
             "#7201a8"
            ],
            [
             0.3333333333333333,
             "#9c179e"
            ],
            [
             0.4444444444444444,
             "#bd3786"
            ],
            [
             0.5555555555555556,
             "#d8576b"
            ],
            [
             0.6666666666666666,
             "#ed7953"
            ],
            [
             0.7777777777777778,
             "#fb9f3a"
            ],
            [
             0.8888888888888888,
             "#fdca26"
            ],
            [
             1,
             "#f0f921"
            ]
           ],
           "sequentialminus": [
            [
             0,
             "#0d0887"
            ],
            [
             0.1111111111111111,
             "#46039f"
            ],
            [
             0.2222222222222222,
             "#7201a8"
            ],
            [
             0.3333333333333333,
             "#9c179e"
            ],
            [
             0.4444444444444444,
             "#bd3786"
            ],
            [
             0.5555555555555556,
             "#d8576b"
            ],
            [
             0.6666666666666666,
             "#ed7953"
            ],
            [
             0.7777777777777778,
             "#fb9f3a"
            ],
            [
             0.8888888888888888,
             "#fdca26"
            ],
            [
             1,
             "#f0f921"
            ]
           ]
          },
          "colorway": [
           "#636efa",
           "#EF553B",
           "#00cc96",
           "#ab63fa",
           "#FFA15A",
           "#19d3f3",
           "#FF6692",
           "#B6E880",
           "#FF97FF",
           "#FECB52"
          ],
          "font": {
           "color": "#2a3f5f"
          },
          "geo": {
           "bgcolor": "white",
           "lakecolor": "white",
           "landcolor": "#E5ECF6",
           "showlakes": true,
           "showland": true,
           "subunitcolor": "white"
          },
          "hoverlabel": {
           "align": "left"
          },
          "hovermode": "closest",
          "mapbox": {
           "style": "light"
          },
          "paper_bgcolor": "white",
          "plot_bgcolor": "#E5ECF6",
          "polar": {
           "angularaxis": {
            "gridcolor": "white",
            "linecolor": "white",
            "ticks": ""
           },
           "bgcolor": "#E5ECF6",
           "radialaxis": {
            "gridcolor": "white",
            "linecolor": "white",
            "ticks": ""
           }
          },
          "scene": {
           "xaxis": {
            "backgroundcolor": "#E5ECF6",
            "gridcolor": "white",
            "gridwidth": 2,
            "linecolor": "white",
            "showbackground": true,
            "ticks": "",
            "zerolinecolor": "white"
           },
           "yaxis": {
            "backgroundcolor": "#E5ECF6",
            "gridcolor": "white",
            "gridwidth": 2,
            "linecolor": "white",
            "showbackground": true,
            "ticks": "",
            "zerolinecolor": "white"
           },
           "zaxis": {
            "backgroundcolor": "#E5ECF6",
            "gridcolor": "white",
            "gridwidth": 2,
            "linecolor": "white",
            "showbackground": true,
            "ticks": "",
            "zerolinecolor": "white"
           }
          },
          "shapedefaults": {
           "line": {
            "color": "#2a3f5f"
           }
          },
          "ternary": {
           "aaxis": {
            "gridcolor": "white",
            "linecolor": "white",
            "ticks": ""
           },
           "baxis": {
            "gridcolor": "white",
            "linecolor": "white",
            "ticks": ""
           },
           "bgcolor": "#E5ECF6",
           "caxis": {
            "gridcolor": "white",
            "linecolor": "white",
            "ticks": ""
           }
          },
          "title": {
           "x": 0.05
          },
          "xaxis": {
           "automargin": true,
           "gridcolor": "white",
           "linecolor": "white",
           "ticks": "",
           "title": {
            "standoff": 15
           },
           "zerolinecolor": "white",
           "zerolinewidth": 2
          },
          "yaxis": {
           "automargin": true,
           "gridcolor": "white",
           "linecolor": "white",
           "ticks": "",
           "title": {
            "standoff": 15
           },
           "zerolinecolor": "white",
           "zerolinewidth": 2
          }
         }
        },
        "xaxis": {
         "autorange": true,
         "range": [
          -0.5,
          99.5
         ],
         "type": "category"
        },
        "yaxis": {
         "autorange": true,
         "range": [
          0,
          2453.684210526316
         ],
         "type": "linear"
        }
       }
      },
      "image/png": "[encoded data removed]",
      "text/html": [
       "<div>\n",
       "        \n",
       "        \n",
       "            <div id=\"53abb597-7975-46f2-8058-e05aad8e148c\" class=\"plotly-graph-div\" style=\"height:525px; width:100%;\"></div>\n",
       "            <script type=\"text/javascript\">\n",
       "                require([\"plotly\"], function(Plotly) {\n",
       "                    window.PLOTLYENV=window.PLOTLYENV || {};\n",
       "                    \n",
       "                if (document.getElementById(\"53abb597-7975-46f2-8058-e05aad8e148c\")) {\n",
       "                    Plotly.newPlot(\n",
       "                        '53abb597-7975-46f2-8058-e05aad8e148c',\n",
       "                        [{\"type\": \"bar\", \"x\": [\"one\", \"percent\", \"make\", \"last\", \"add\", \"high\", \"issue\", \"day\", \"international\", \"late\", \"decline\", \"far\", \"like\", \"earlier\", \"forty\", \"open\", \"interview\", \"estimate\", \"monday\", \"pound\", \"eighty\", \"leave\", \"find\", \"least\", \"name\", \"forty-two\", \"board\", \"city\", \"hard\", \"asia\", \"north\", \"carry\", \"ninety-three\", \"commercial\", \"cannot\", \"family\", \"ever\", \"airline\", \"machine\", \"administration\", \"nothing\", \"lawyer\", \"police\", \"live\", \"drug\", \"passenger\", \"presence\", \"airport\", \"bottom\", \"california\", \"edge\", \"mine\", \"flight\", \"kill\", \"blow\", \"else\", \"check\", \"mexico\", \"person\", \"colombia\", \"originally\", \"arrest\", \"los\", \"angeles\", \"golden\", \"discover\", \"multiple\", \"colombian\", \"bag\", \"pilot\", \"detain\", \"prosecutor\", \"pack\", \"grade\", \"exactly\", \"career\", \"kg\", \"enforcement\", \"inside\", \"cartel\", \"cocaine\", \"false\", \"bogota\", \"passport\", \"frame\", \"dakota\", \"ace\", \"aviator\", \"mexican\", \"clothes\", \"dale\", \"panama\", \"bradley\", \"interpreter\", \"jeopardy\", \"heroin\", \"insignia\", \"brandt\", \"overcoat\", \"dea\"], \"y\": [2331, 1502, 1349, 1303, 1022, 979, 674, 637, 598, 561, 557, 531, 516, 491, 478, 436, 434, 399, 388, 377, 338, 337, 324, 320, 317, 314, 279, 266, 235, 234, 229, 222, 219, 203, 172, 170, 130, 118, 114, 113, 112, 104, 102, 101, 97, 95, 88, 82, 78, 78, 78, 73, 65, 62, 56, 55, 53, 52, 50, 50, 47, 45, 40, 39, 38, 38, 36, 35, 33, 32, 30, 28, 28, 28, 26, 25, 23, 21, 20, 19, 18, 18, 16, 12, 12, 11, 8, 6, 6, 6, 4, 4, 3, 3, 3, 3, 2, 1, 1, 1]}],\n",
       "                        {\"template\": {\"data\": {\"bar\": [{\"error_x\": {\"color\": \"#2a3f5f\"}, \"error_y\": {\"color\": \"#2a3f5f\"}, \"marker\": {\"line\": {\"color\": \"#E5ECF6\", \"width\": 0.5}}, \"type\": \"bar\"}], \"barpolar\": [{\"marker\": {\"line\": {\"color\": \"#E5ECF6\", \"width\": 0.5}}, \"type\": \"barpolar\"}], \"carpet\": [{\"aaxis\": {\"endlinecolor\": \"#2a3f5f\", \"gridcolor\": \"white\", \"linecolor\": \"white\", \"minorgridcolor\": \"white\", \"startlinecolor\": \"#2a3f5f\"}, \"baxis\": {\"endlinecolor\": \"#2a3f5f\", \"gridcolor\": \"white\", \"linecolor\": \"white\", \"minorgridcolor\": \"white\", \"startlinecolor\": \"#2a3f5f\"}, \"type\": \"carpet\"}], \"choropleth\": [{\"colorbar\": {\"outlinewidth\": 0, \"ticks\": \"\"}, \"type\": \"choropleth\"}], \"contour\": [{\"colorbar\": {\"outlinewidth\": 0, \"ticks\": \"\"}, \"colorscale\": [[0.0, \"#0d0887\"], [0.1111111111111111, \"#46039f\"], [0.2222222222222222, \"#7201a8\"], [0.3333333333333333, \"#9c179e\"], [0.4444444444444444, \"#bd3786\"], [0.5555555555555556, \"#d8576b\"], [0.6666666666666666, \"#ed7953\"], [0.7777777777777778, \"#fb9f3a\"], [0.8888888888888888, \"#fdca26\"], [1.0, \"#f0f921\"]], \"type\": \"contour\"}], \"contourcarpet\": [{\"colorbar\": {\"outlinewidth\": 0, \"ticks\": \"\"}, \"type\": \"contourcarpet\"}], \"heatmap\": [{\"colorbar\": {\"outlinewidth\": 0, \"ticks\": \"\"}, \"colorscale\": [[0.0, \"#0d0887\"], [0.1111111111111111, \"#46039f\"], [0.2222222222222222, \"#7201a8\"], [0.3333333333333333, \"#9c179e\"], [0.4444444444444444, \"#bd3786\"], [0.5555555555555556, \"#d8576b\"], [0.6666666666666666, \"#ed7953\"], [0.7777777777777778, \"#fb9f3a\"], [0.8888888888888888, \"#fdca26\"], [1.0, \"#f0f921\"]], \"type\": \"heatmap\"}], \"heatmapgl\": [{\"colorbar\": {\"outlinewidth\": 0, \"ticks\": \"\"}, \"colorscale\": [[0.0, \"#0d0887\"], [0.1111111111111111, \"#46039f\"], [0.2222222222222222, \"#7201a8\"], [0.3333333333333333, \"#9c179e\"], [0.4444444444444444, \"#bd3786\"], [0.5555555555555556, \"#d8576b\"], [0.6666666666666666, \"#ed7953\"], [0.7777777777777778, \"#fb9f3a\"], [0.8888888888888888, \"#fdca26\"], [1.0, \"#f0f921\"]], \"type\": \"heatmapgl\"}], \"histogram\": [{\"marker\": {\"colorbar\": {\"outlinewidth\": 0, \"ticks\": \"\"}}, \"type\": \"histogram\"}], \"histogram2d\": [{\"colorbar\": {\"outlinewidth\": 0, \"ticks\": \"\"}, \"colorscale\": [[0.0, \"#0d0887\"], [0.1111111111111111, \"#46039f\"], [0.2222222222222222, \"#7201a8\"], [0.3333333333333333, \"#9c179e\"], [0.4444444444444444, \"#bd3786\"], [0.5555555555555556, \"#d8576b\"], [0.6666666666666666, \"#ed7953\"], [0.7777777777777778, \"#fb9f3a\"], [0.8888888888888888, \"#fdca26\"], [1.0, \"#f0f921\"]], \"type\": \"histogram2d\"}], \"histogram2dcontour\": [{\"colorbar\": {\"outlinewidth\": 0, \"ticks\": \"\"}, \"colorscale\": [[0.0, \"#0d0887\"], [0.1111111111111111, \"#46039f\"], [0.2222222222222222, \"#7201a8\"], [0.3333333333333333, \"#9c179e\"], [0.4444444444444444, \"#bd3786\"], [0.5555555555555556, \"#d8576b\"], [0.6666666666666666, \"#ed7953\"], [0.7777777777777778, \"#fb9f3a\"], [0.8888888888888888, \"#fdca26\"], [1.0, \"#f0f921\"]], \"type\": \"histogram2dcontour\"}], \"mesh3d\": [{\"colorbar\": {\"outlinewidth\": 0, \"ticks\": \"\"}, \"type\": \"mesh3d\"}], \"parcoords\": [{\"line\": {\"colorbar\": {\"outlinewidth\": 0, \"ticks\": \"\"}}, \"type\": \"parcoords\"}], \"pie\": [{\"automargin\": true, \"type\": \"pie\"}], \"scatter\": [{\"marker\": {\"colorbar\": {\"outlinewidth\": 0, \"ticks\": \"\"}}, \"type\": \"scatter\"}], \"scatter3d\": [{\"line\": {\"colorbar\": {\"outlinewidth\": 0, \"ticks\": \"\"}}, \"marker\": {\"colorbar\": {\"outlinewidth\": 0, \"ticks\": \"\"}}, \"type\": \"scatter3d\"}], \"scattercarpet\": [{\"marker\": {\"colorbar\": {\"outlinewidth\": 0, \"ticks\": \"\"}}, \"type\": \"scattercarpet\"}], \"scattergeo\": [{\"marker\": {\"colorbar\": {\"outlinewidth\": 0, \"ticks\": \"\"}}, \"type\": \"scattergeo\"}], \"scattergl\": [{\"marker\": {\"colorbar\": {\"outlinewidth\": 0, \"ticks\": \"\"}}, \"type\": \"scattergl\"}], \"scattermapbox\": [{\"marker\": {\"colorbar\": {\"outlinewidth\": 0, \"ticks\": \"\"}}, \"type\": \"scattermapbox\"}], \"scatterpolar\": [{\"marker\": {\"colorbar\": {\"outlinewidth\": 0, \"ticks\": \"\"}}, \"type\": \"scatterpolar\"}], \"scatterpolargl\": [{\"marker\": {\"colorbar\": {\"outlinewidth\": 0, \"ticks\": \"\"}}, \"type\": \"scatterpolargl\"}], \"scatterternary\": [{\"marker\": {\"colorbar\": {\"outlinewidth\": 0, \"ticks\": \"\"}}, \"type\": \"scatterternary\"}], \"surface\": [{\"colorbar\": {\"outlinewidth\": 0, \"ticks\": \"\"}, \"colorscale\": [[0.0, \"#0d0887\"], [0.1111111111111111, \"#46039f\"], [0.2222222222222222, \"#7201a8\"], [0.3333333333333333, \"#9c179e\"], [0.4444444444444444, \"#bd3786\"], [0.5555555555555556, \"#d8576b\"], [0.6666666666666666, \"#ed7953\"], [0.7777777777777778, \"#fb9f3a\"], [0.8888888888888888, \"#fdca26\"], [1.0, \"#f0f921\"]], \"type\": \"surface\"}], \"table\": [{\"cells\": {\"fill\": {\"color\": \"#EBF0F8\"}, \"line\": {\"color\": \"white\"}}, \"header\": {\"fill\": {\"color\": \"#C8D4E3\"}, \"line\": {\"color\": \"white\"}}, \"type\": \"table\"}]}, \"layout\": {\"annotationdefaults\": {\"arrowcolor\": \"#2a3f5f\", \"arrowhead\": 0, \"arrowwidth\": 1}, \"coloraxis\": {\"colorbar\": {\"outlinewidth\": 0, \"ticks\": \"\"}}, \"colorscale\": {\"diverging\": [[0, \"#8e0152\"], [0.1, \"#c51b7d\"], [0.2, \"#de77ae\"], [0.3, \"#f1b6da\"], [0.4, \"#fde0ef\"], [0.5, \"#f7f7f7\"], [0.6, \"#e6f5d0\"], [0.7, \"#b8e186\"], [0.8, \"#7fbc41\"], [0.9, \"#4d9221\"], [1, \"#276419\"]], \"sequential\": [[0.0, \"#0d0887\"], [0.1111111111111111, \"#46039f\"], [0.2222222222222222, \"#7201a8\"], [0.3333333333333333, \"#9c179e\"], [0.4444444444444444, \"#bd3786\"], [0.5555555555555556, \"#d8576b\"], [0.6666666666666666, \"#ed7953\"], [0.7777777777777778, \"#fb9f3a\"], [0.8888888888888888, \"#fdca26\"], [1.0, \"#f0f921\"]], \"sequentialminus\": [[0.0, \"#0d0887\"], [0.1111111111111111, \"#46039f\"], [0.2222222222222222, \"#7201a8\"], [0.3333333333333333, \"#9c179e\"], [0.4444444444444444, \"#bd3786\"], [0.5555555555555556, \"#d8576b\"], [0.6666666666666666, \"#ed7953\"], [0.7777777777777778, \"#fb9f3a\"], [0.8888888888888888, \"#fdca26\"], [1.0, \"#f0f921\"]]}, \"colorway\": [\"#636efa\", \"#EF553B\", \"#00cc96\", \"#ab63fa\", \"#FFA15A\", \"#19d3f3\", \"#FF6692\", \"#B6E880\", \"#FF97FF\", \"#FECB52\"], \"font\": {\"color\": \"#2a3f5f\"}, \"geo\": {\"bgcolor\": \"white\", \"lakecolor\": \"white\", \"landcolor\": \"#E5ECF6\", \"showlakes\": true, \"showland\": true, \"subunitcolor\": \"white\"}, \"hoverlabel\": {\"align\": \"left\"}, \"hovermode\": \"closest\", \"mapbox\": {\"style\": \"light\"}, \"paper_bgcolor\": \"white\", \"plot_bgcolor\": \"#E5ECF6\", \"polar\": {\"angularaxis\": {\"gridcolor\": \"white\", \"linecolor\": \"white\", \"ticks\": \"\"}, \"bgcolor\": \"#E5ECF6\", \"radialaxis\": {\"gridcolor\": \"white\", \"linecolor\": \"white\", \"ticks\": \"\"}}, \"scene\": {\"xaxis\": {\"backgroundcolor\": \"#E5ECF6\", \"gridcolor\": \"white\", \"gridwidth\": 2, \"linecolor\": \"white\", \"showbackground\": true, \"ticks\": \"\", \"zerolinecolor\": \"white\"}, \"yaxis\": {\"backgroundcolor\": \"#E5ECF6\", \"gridcolor\": \"white\", \"gridwidth\": 2, \"linecolor\": \"white\", \"showbackground\": true, \"ticks\": \"\", \"zerolinecolor\": \"white\"}, \"zaxis\": {\"backgroundcolor\": \"#E5ECF6\", \"gridcolor\": \"white\", \"gridwidth\": 2, \"linecolor\": \"white\", \"showbackground\": true, \"ticks\": \"\", \"zerolinecolor\": \"white\"}}, \"shapedefaults\": {\"line\": {\"color\": \"#2a3f5f\"}}, \"ternary\": {\"aaxis\": {\"gridcolor\": \"white\", \"linecolor\": \"white\", \"ticks\": \"\"}, \"baxis\": {\"gridcolor\": \"white\", \"linecolor\": \"white\", \"ticks\": \"\"}, \"bgcolor\": \"#E5ECF6\", \"caxis\": {\"gridcolor\": \"white\", \"linecolor\": \"white\", \"ticks\": \"\"}}, \"title\": {\"x\": 0.05}, \"xaxis\": {\"automargin\": true, \"gridcolor\": \"white\", \"linecolor\": \"white\", \"ticks\": \"\", \"title\": {\"standoff\": 15}, \"zerolinecolor\": \"white\", \"zerolinewidth\": 2}, \"yaxis\": {\"automargin\": true, \"gridcolor\": \"white\", \"linecolor\": \"white\", \"ticks\": \"\", \"title\": {\"standoff\": 15}, \"zerolinecolor\": \"white\", \"zerolinewidth\": 2}}}},\n",
       "                        {\"responsive\": true}\n",
       "                    ).then(function(){\n",
       "                            \n",
       "var gd = document.getElementById('53abb597-7975-46f2-8058-e05aad8e148c');\n",
       "var x = new MutationObserver(function (mutations, observer) {{\n",
       "        var display = window.getComputedStyle(gd).display;\n",
       "        if (!display || display === 'none') {{\n",
       "            console.log([gd, 'removed!']);\n",
       "            Plotly.purge(gd);\n",
       "            observer.disconnect();\n",
       "        }}\n",
       "}});\n",
       "\n",
       "// Listen for the removal of the full notebook cells\n",
       "var notebookContainer = gd.closest('#notebook-container');\n",
       "if (notebookContainer) {{\n",
       "    x.observe(notebookContainer, {childList: true});\n",
       "}}\n",
       "\n",
       "// Listen for the clearing of the current output cell\n",
       "var outputEl = gd.closest('.output');\n",
       "if (outputEl) {{\n",
       "    x.observe(outputEl, {childList: true});\n",
       "}}\n",
       "\n",
       "                        })\n",
       "                };\n",
       "                });\n",
       "            </script>\n",
       "        </div>"
      ]
     },
     "metadata": {},
     "output_type": "display_data"
    }
   ],
   "source": [
    "index_series = pd.Series(index)\n",
    "top_display  = 100 \n",
    "data  = [go.Bar(\n",
    "            x= index_series[:top_display].apply(len).sort_values(ascending=False).index,\n",
    "            y= index_series[:top_display].apply(len).sort_values(ascending=False).values,\n",
    ")]\n",
    "iplot(data)"
   ]
  },
  {
   "cell_type": "markdown",
   "metadata": {},
   "source": [
    "### 1.4. Map Reduce pour la création de l'index"
   ]
  },
  {
   "cell_type": "code",
   "execution_count": 33,
   "metadata": {},
   "outputs": [
    {
     "data": {
      "text/plain": [
       "8"
      ]
     },
     "execution_count": 33,
     "metadata": {},
     "output_type": "execute_result"
    }
   ],
   "source": [
    "nb_process = mp.cpu_count()\n",
    "nb_process"
   ]
  },
  {
   "cell_type": "markdown",
   "metadata": {},
   "source": [
    "Notre machine a 8 cpu. Nous allons en utiliser 7 à la fois pour laisser le dernier s'occuper d'autres tâches au même moment. Nous définissons la fonction \"**get_doc_index**\" qui permet de récupérer l'index construit d'un document. Nous allons ensuite appliquer cette fonction à l'ensemble des documents de notre corpus à l'aide de la fonction \"**map**\" permettant de faire du multiprocessing. "
   ]
  },
  {
   "cell_type": "code",
   "execution_count": 34,
   "metadata": {},
   "outputs": [],
   "source": [
    "def get_doc_index(doc):\n",
    "    id_doc, document = doc\n",
    "    index = defaultdict(list)\n",
    "    doc_words = document.split(' ')\n",
    "    nb_words_in_doc = len(doc_words)\n",
    "    \n",
    "    for word in np.unique(doc_words):\n",
    "        idx = [m.start() for m in re.finditer(word, document)]\n",
    "        index[word] = {'num_doc': id_doc, 'nb_fois' : len(idx), 'pos': idx, 'len_doc': nb_words_in_doc}\n",
    "    return dict(index)"
   ]
  },
  {
   "cell_type": "code",
   "execution_count": 36,
   "metadata": {},
   "outputs": [],
   "source": [
    "index2 = defaultdict(list) #indiquer que chaque valeur associée à une clée est bien une liste\n",
    "with mp.Pool(processes = nb_process-1) as pool :\n",
    "    all_dicts = pool.map(get_doc_index, list(enumerate(cleaned_docs)))\n",
    "for dico in all_dicts:\n",
    "    for key in dico.keys():\n",
    "        index2[key].append(dico[key])"
   ]
  },
  {
   "cell_type": "code",
   "execution_count": 35,
   "metadata": {},
   "outputs": [
    {
     "name": "stdout",
     "output_type": "stream",
     "text": [
      "5.15 s ± 528 ms per loop (mean ± std. dev. of 7 runs, 1 loop each)\n"
     ]
    }
   ],
   "source": [
    "%%timeit\n",
    "index2 = defaultdict(list) #indiquer que chaque valeur associée à une clée est bien une liste\n",
    "with mp.Pool(processes = nb_process-1) as pool :\n",
    "    all_dicts = pool.map(get_doc_index, list(enumerate(cleaned_docs)))\n",
    "for dico in all_dicts:\n",
    "    for key in dico.keys():\n",
    "        index2[key].append(dico[key])"
   ]
  },
  {
   "cell_type": "code",
   "execution_count": 37,
   "metadata": {},
   "outputs": [
    {
     "data": {
      "text/plain": [
       "[{'num_doc': 525, 'nb_fois': 1, 'pos': [289], 'len_doc': 272},\n",
       " {'num_doc': 1031, 'nb_fois': 1, 'pos': [1772], 'len_doc': 629},\n",
       " {'num_doc': 1061, 'nb_fois': 3, 'pos': [384, 3194, 3857], 'len_doc': 601},\n",
       " {'num_doc': 1082, 'nb_fois': 1, 'pos': [4084], 'len_doc': 596},\n",
       " {'num_doc': 1261, 'nb_fois': 1, 'pos': [518], 'len_doc': 314},\n",
       " {'num_doc': 1454, 'nb_fois': 1, 'pos': [111], 'len_doc': 199},\n",
       " {'num_doc': 1491, 'nb_fois': 1, 'pos': [111], 'len_doc': 232}]"
      ]
     },
     "execution_count": 37,
     "metadata": {},
     "output_type": "execute_result"
    }
   ],
   "source": [
    "index['beautiful']"
   ]
  },
  {
   "cell_type": "code",
   "execution_count": 38,
   "metadata": {},
   "outputs": [
    {
     "data": {
      "text/plain": [
       "[{'num_doc': 525, 'nb_fois': 1, 'pos': [289], 'len_doc': 272},\n",
       " {'num_doc': 1031, 'nb_fois': 1, 'pos': [1772], 'len_doc': 629},\n",
       " {'num_doc': 1061, 'nb_fois': 3, 'pos': [384, 3194, 3857], 'len_doc': 601},\n",
       " {'num_doc': 1082, 'nb_fois': 1, 'pos': [4084], 'len_doc': 596},\n",
       " {'num_doc': 1261, 'nb_fois': 1, 'pos': [518], 'len_doc': 314},\n",
       " {'num_doc': 1454, 'nb_fois': 1, 'pos': [111], 'len_doc': 199},\n",
       " {'num_doc': 1491, 'nb_fois': 1, 'pos': [111], 'len_doc': 232}]"
      ]
     },
     "execution_count": 38,
     "metadata": {},
     "output_type": "execute_result"
    }
   ],
   "source": [
    "index2['beautiful']"
   ]
  },
  {
   "cell_type": "markdown",
   "metadata": {},
   "source": [
    "Nous avons exactement le même résultat en un temps plus restreint (temps divisé en deux). En effet, malgré l'utilisation de 7 cpu, puisque le temps de calcul sur un seul cpu n'est pas élevé (12 secondes dans l'exemple passé), la différence n'est donc pas énorme. On ne retrouve donc pas un temps divisé par 7 en considérant que le map implique un cout de partage d'informations et de récupération des résultats venant de cpus différents. "
   ]
  },
  {
   "cell_type": "markdown",
   "metadata": {},
   "source": [
    "Pour finir cette partie, nous effectuons de la serialisation pour stocker l'index sous forme de fichier dans le disque afin d'éviter de reclaculer l'index à chaque fois qu'on en a besoin (elle servir également pour l'application)."
   ]
  },
  {
   "cell_type": "code",
   "execution_count": 43,
   "metadata": {},
   "outputs": [],
   "source": [
    "with open('index.pkl', 'wb') as f:\n",
    "    pkl.dump(index,f)"
   ]
  },
  {
   "cell_type": "code",
   "execution_count": 142,
   "metadata": {},
   "outputs": [],
   "source": [
    "#pour relire le fichier\n",
    "#with open('index.pkl', 'rb') as file:\n",
    "#    pick_index = pkl.load(file)"
   ]
  },
  {
   "cell_type": "markdown",
   "metadata": {},
   "source": [
    "## 2. Les requêtes"
   ]
  },
  {
   "cell_type": "markdown",
   "metadata": {},
   "source": [
    "### 2.1. Requête en un mot"
   ]
  },
  {
   "cell_type": "markdown",
   "metadata": {},
   "source": [
    "Il s'agit simplement d'une requête composée d'un seul mot. Le moteur de recherche nous informe juste du nombre d'articles (documents) où le mot apparait, ou sinon un petit message d'erreur si le mot n'exite pas. Nous allons définir une fonction permettant de répondre à ce problème et montrer deux exemples."
   ]
  },
  {
   "cell_type": "code",
   "execution_count": 30,
   "metadata": {},
   "outputs": [],
   "source": [
    "def binary_question(word):\n",
    "    doc_ids = [doc['num_doc'] for doc in index[word]]\n",
    "    if len(doc_ids) > 0 : \n",
    "        print(\"'\" + word + \"'\" , 'appears in ', len(doc_ids), 'documents')\n",
    "        return doc_ids\n",
    "    return print(\"'\"+ word + \"'\" , \"doesn't exist. Please, try again !\")"
   ]
  },
  {
   "cell_type": "code",
   "execution_count": 31,
   "metadata": {},
   "outputs": [
    {
     "name": "stdout",
     "output_type": "stream",
     "text": [
      "'dog' appears in  72 documents\n",
      "'warning' appears in  59 documents\n",
      "'violin' doesn't exist. Please, try again !\n"
     ]
    }
   ],
   "source": [
    "# Les underscores sont juste là pour ne pas stocker les valeurs de retour de la fonction dont on aura besoin plus tard\n",
    "_, _, _ = binary_question('dog'), binary_question('warning'), binary_question('violin')"
   ]
  },
  {
   "cell_type": "markdown",
   "metadata": {},
   "source": [
    "### 2.2. Requête en texte libre"
   ]
  },
  {
   "cell_type": "markdown",
   "metadata": {},
   "source": [
    "Recherche de plusieurs mots successifs dans le corpus. Le moteur retourne le nombre de documents où apparaissent chaque mot individuel de la requête, ensuite le nombre de documents où au moins un mot de la requête apparait (union) et finalement le nombre de documents où tous les mots apparaissent (intersection). Pour cela, nous commençons par définir deux fonctions récursives 'set_union' et 'set_intersection' qui permettent respectivement de trouver tous l'union des numéros de document d'une liste d'ensembles (set) et l'intersection des numéros de document d'une liste d'ensembles (set). En fin de compte, la fonction 'search_text' permet de traiter la requête et d'afficher la réponse."
   ]
  },
  {
   "cell_type": "code",
   "execution_count": 32,
   "metadata": {},
   "outputs": [],
   "source": [
    "# Unions et intersections d'une liste d'ensembles de manière récursive.\n",
    "# ex : [{1,3}, {1,2}, {1,4}], intersection = {1}, union = {1,2,3,4}\n",
    "\n",
    "def set_intersection(list_of_sets):\n",
    "    if len(list_of_sets)<=2:\n",
    "        return set.intersection(list_of_sets[0], list_of_sets[1])\n",
    "    else:\n",
    "        return set.intersection(list_of_sets[0], set_intersection(list_of_sets[1:]))\n",
    "    \n",
    "def set_union(list_of_sets):\n",
    "    if len(list_of_sets)<=2:\n",
    "        return set.union(list_of_sets[0], list_of_sets[1])\n",
    "    else:\n",
    "        return set.union(list_of_sets[0], set_union(list_of_sets[1:]))"
   ]
  },
  {
   "cell_type": "code",
   "execution_count": 33,
   "metadata": {},
   "outputs": [],
   "source": [
    "def search_text(text):\n",
    "    text = clean_document(text)\n",
    "    id_docs = []\n",
    "    word_list = text.split(' ')\n",
    "    \n",
    "    if len(word_list) == 1: #Cas où le texte entré n'est qu'un mot\n",
    "        return binary_question(word_list)\n",
    "    \n",
    "    for word in word_list:\n",
    "        id_docs.append(set(binary_question(word)))\n",
    "     \n",
    "    intersection, union = set_intersection(id_docs), set_union(id_docs)\n",
    "    print(\"'\" + text + \"'\" , 'has', len(intersection), 'exact matches')\n",
    "    print(\"'\" + text + \"'\" , 'has', len(union), 'approximates matches')\n",
    "    return intersection, union"
   ]
  },
  {
   "cell_type": "code",
   "execution_count": 34,
   "metadata": {},
   "outputs": [
    {
     "name": "stdout",
     "output_type": "stream",
     "text": [
      "'communist' appears in  218 documents\n",
      "'party' appears in  321 documents\n",
      "'use' appears in  1295 documents\n",
      "'one' appears in  2431 documents\n",
      "'single' appears in  141 documents\n",
      "'thing' appears in  678 documents\n",
      "'communist party use one single thing' has 1 exact matches\n",
      "'communist party use one single thing' has 2471 approximates matches\n",
      "--------\n",
      "'weather' appears in  54 documents\n",
      "'get' appears in  1136 documents\n",
      "'bad' appears in  237 documents\n",
      "'weather get bad' has 14 exact matches\n",
      "'weather get bad' has 1284 approximates matches\n"
     ]
    }
   ],
   "source": [
    "_ = search_text('the communist party use one single thing')\n",
    "print('--------')\n",
    "_ = search_text('the weather is getting worse')"
   ]
  },
  {
   "cell_type": "markdown",
   "metadata": {},
   "source": [
    "### 2.3. Requête sous forme de phrase avec la prise en compte de l'odre des mots"
   ]
  },
  {
   "cell_type": "markdown",
   "metadata": {},
   "source": [
    "Cette fois-ci, on tient compte de la succession des mots dans la requête. Le moteur renvoie la liste des documents où les mots de la requête se suivent exactement dans l'ordre."
   ]
  },
  {
   "cell_type": "code",
   "execution_count": 35,
   "metadata": {},
   "outputs": [],
   "source": [
    "def queries_index(sentence):\n",
    "    cleaned_sentence = clean_document(sentence)\n",
    "    sentence_list    = cleaned_sentence.split(' ')\n",
    "    intersection, _  = search_text(sentence) #obtenir les documents où tous les mots apparaissent \n",
    "    final_docs       = []\n",
    "    print('---------------------------------------')\n",
    "    for doc_id in intersection: #on ne s'interesse qu'aux documents contenant à la fois tous les mots de la requête\n",
    "        _all_sets = [] #contiendra les positions modifiées d'apparition des mots dans le document\n",
    "        for word in sentence_list:\n",
    "            for docs in index[word]:\n",
    "                if docs['num_doc'] == doc_id:\n",
    "                    word_index = sentence_list.index(word)\n",
    "                    new_pos=[pos - len(' '.join(sentence_list[:word_index]))-1 if word_index>0 else pos for pos in docs['pos']]\n",
    "                    _all_sets.append(set(new_pos))\n",
    "        if len(set_intersection(_all_sets))>0: #intersection des bons décalages trouvé, donc bon document\n",
    "            final_docs.append(doc_id) \n",
    "    print(\"'\" + cleaned_sentence + \"'\",'appears in exact oder in', len(final_docs), 'documents')\n",
    "    print('These documents are :', final_docs)"
   ]
  },
  {
   "cell_type": "markdown",
   "metadata": {},
   "source": [
    "Comme exemple, nous allons tirer une petite expression d'un document aléatoire et tester si l'algorithme arrive à le retrouver."
   ]
  },
  {
   "cell_type": "code",
   "execution_count": 36,
   "metadata": {},
   "outputs": [
    {
     "data": {
      "text/plain": [
       "1653"
      ]
     },
     "execution_count": 36,
     "metadata": {},
     "output_type": "execute_result"
    }
   ],
   "source": [
    "np.random.seed(0)\n",
    "id_doc = np.random.randint(0,len(documents),1)[0]\n",
    "id_doc"
   ]
  },
  {
   "cell_type": "code",
   "execution_count": 37,
   "metadata": {},
   "outputs": [
    {
     "name": "stdout",
     "output_type": "stream",
     "text": [
      "Covering the quarter before last Thursday's completion of its $7.5 billion acquisition of Turner Broadcasting System, the entertainment group said three hit movies, strong magazine advertising sales helped by the Olympic Games, and good HBO results lifted cash flow to $964 million.\n",
      "Revenues for the three months ended Sept. 30 were $4.877 billion, up from $4.344 billion a year ago.\n",
      "Last year's third-quarter cash flow, defined as earnings before interest, taxes, depreciation and amortization, or EBITDA, was $729 million, the company said.\n",
      "Time Warner, many of whose cable TV and other businesses are co-owned with 25 percent partner U S West Inc. , reported a net loss of $167 million, or 43 cents a share, for the quarter.\n",
      "Net losses in last year's quarter were $160 million, or 41 cents a share, on 1.5 million more shares outstanding.\n",
      "Net interest costs were $276 million, up from $259 million in last year's third quarter. Preferred dividends rose to $76 million in the third quarter from $16\n"
     ]
    },
    {
     "data": {
      "text/plain": [
       "({'title': 'Riding rising U.S. cable TV fees, Time Warner Inc said on Wednesday its earnings before heavy debt payments shot up 32 percent in the third quarter, compared with the same three months last year.',\n",
       "  'author': 'MichaelConnor'},\n",
       " None)"
      ]
     },
     "execution_count": 37,
     "metadata": {},
     "output_type": "execute_result"
    }
   ],
   "source": [
    "documents_infos[id_doc], print(documents[id_doc][:1000])"
   ]
  },
  {
   "cell_type": "markdown",
   "metadata": {},
   "source": [
    "Il s'agit d'un article de 'Michael Connor'. Intéressons nous au début du 2e paragraphe faisons une recherche via l'index."
   ]
  },
  {
   "cell_type": "code",
   "execution_count": 38,
   "metadata": {},
   "outputs": [
    {
     "name": "stdout",
     "output_type": "stream",
     "text": [
      "'revenue' appears in  370 documents\n",
      "'three' appears in  1748 documents\n",
      "'month' appears in  1084 documents\n",
      "'end' appears in  1923 documents\n",
      "'revenue three month end' has 111 exact matches\n",
      "'revenue three month end' has 2379 approximates matches\n",
      "---------------------------------------\n",
      "'revenue three month end' appears in exact oder in 3 documents\n",
      "These documents are : [1653, 1655, 499]\n"
     ]
    }
   ],
   "source": [
    "queries_index('Revenues for the three months ended')"
   ]
  },
  {
   "cell_type": "markdown",
   "metadata": {},
   "source": [
    "Les quatres mots pertinents se succèdent dans 3 documents exactement. L'indexation a bien permit de retrouver évidemment l'article qui avait été sélectionné au départ dont l'identifiant est **1653**. Vérifions les deux autres documents dont nous n'avions aucune connaissance de l'existence de cet enchainement de mots."
   ]
  },
  {
   "cell_type": "code",
   "execution_count": 39,
   "metadata": {},
   "outputs": [
    {
     "name": "stdout",
     "output_type": "stream",
     "text": [
      "Covering the quarter before last Thursday's completion of its $7.5 billion acquisition of Turner Broadcasting System, the entertainment group said three hit movies, strong magazine advertising sales helped by the Olympic Games, and good HBO results lifted cash flow to $964 million.\n",
      "Revenues for the three months ended Sept. 30 were $4.877 billion, up from $4.344 billion a year ago.\n",
      "Last year's third-quarter cash flow, defined as earnings before interest, taxes, depreciation and amortization, or E...\n"
     ]
    }
   ],
   "source": [
    "print(documents[1655][:500] + '...')"
   ]
  },
  {
   "cell_type": "markdown",
   "metadata": {},
   "source": [
    "Effectivement, le 2e paragraphe de l'article **1655** contient exactement ces mots aussi."
   ]
  },
  {
   "cell_type": "code",
   "execution_count": 40,
   "metadata": {},
   "outputs": [
    {
     "name": "stdout",
     "output_type": "stream",
     "text": [
      "...rzowskas, an analyst for First Albany. \"You get a lot more conservative.\"\n",
      "\"After a quarter like this you have to just step back and evaluate,\" Barzowskas said. \"I am not ready to believe they can do what they think they can do at the moment.\"\n",
      "But while he slashed his earnings estimates for the foreseeable future, the First Albany analyst maintained his buy rating on the stock at its now severely reduced price.\n",
      "Shiva said it expected revenue for the three months ending Dec. 28 to be $48 million to $50 million, compared with $57.1 million for the prior quarter, which ended in September. The company reported $35.6 million in revenues for the fourth quarter of 1995.\n",
      "Shiva said it will report final results for the fourth quarter and year on Jan. 23 after the close of the market.\n",
      "\n"
     ]
    }
   ],
   "source": [
    "print('...' + documents[499][4000:])"
   ]
  },
  {
   "cell_type": "markdown",
   "metadata": {},
   "source": [
    "Egalement, l'avant dernier paragraphe de l'article **499** contient aussi cette succession exacte de mots. L'indexation marche merveilleusement bien :-)"
   ]
  },
  {
   "cell_type": "markdown",
   "metadata": {},
   "source": [
    "## 3. Ranking"
   ]
  },
  {
   "cell_type": "markdown",
   "metadata": {},
   "source": [
    "### 3.1. Par nombre d'occurences"
   ]
  },
  {
   "cell_type": "code",
   "execution_count": 278,
   "metadata": {},
   "outputs": [],
   "source": [
    "def rank_by_ocurrence(query, k=10):\n",
    "    cleaned_query = clean_document(query)\n",
    "    words = cleaned_query.split(' ')\n",
    "    \n",
    "    scores = pd.Series(np.zeros(len(documents), dtype=int)) #initialiser les scores de tous les documents\n",
    "   \n",
    "    for word in words:\n",
    "        if len(index[word]) > 0: #le mot existe dans l'index\n",
    "            scores = scores.add(pd.DataFrame(index[word]).set_index('num_doc').nb_fois, fill_value=0)\n",
    "    \n",
    "    return scores.sort_values(ascending=False)[:k] #les top k premiers"
   ]
  },
  {
   "cell_type": "code",
   "execution_count": 279,
   "metadata": {},
   "outputs": [
    {
     "data": {
      "text/plain": [
       "483     21.0\n",
       "488     19.0\n",
       "149     19.0\n",
       "1172    18.0\n",
       "1151    18.0\n",
       "1185    17.0\n",
       "1192    16.0\n",
       "1023    16.0\n",
       "2165    16.0\n",
       "1154    15.0\n",
       "dtype: float64"
      ]
     },
     "execution_count": 279,
     "metadata": {},
     "output_type": "execute_result"
    }
   ],
   "source": [
    "rank_by_ocurrence(query='The gorvernment is working with all people to build better future')"
   ]
  },
  {
   "cell_type": "markdown",
   "metadata": {},
   "source": [
    "### 3.2. Requête par fréquence normalisée"
   ]
  },
  {
   "cell_type": "code",
   "execution_count": 280,
   "metadata": {},
   "outputs": [],
   "source": [
    "def rank_by_frequency(query, k=10):\n",
    "    cleaned_query = clean_document(query)\n",
    "    words = cleaned_query.split(' ')\n",
    "    \n",
    "    scores = pd.Series(np.zeros(len(documents), dtype=int)) #initialiser les scores de tous les documents\n",
    "    \n",
    "    for word in words:\n",
    "        if len(index[word]) > 0: #le mot existe dans l'index\n",
    "            _df = pd.DataFrame(index[word]).set_index('num_doc').nb_fois\n",
    "            _df = _df/pd.DataFrame(index[word]).set_index('num_doc').len_doc\n",
    "            #print(_df.head())\n",
    "            scores = scores.add(_df, fill_value=0)\n",
    "    return scores.sort_values(ascending=False)[:k] #les top k premiers"
   ]
  },
  {
   "cell_type": "code",
   "execution_count": 281,
   "metadata": {},
   "outputs": [
    {
     "data": {
      "text/plain": [
       "149     0.081897\n",
       "483     0.073171\n",
       "2399    0.054475\n",
       "488     0.050938\n",
       "1344    0.050000\n",
       "1023    0.049080\n",
       "646     0.046512\n",
       "1151    0.046036\n",
       "1172    0.046036\n",
       "452     0.045872\n",
       "dtype: float64"
      ]
     },
     "execution_count": 281,
     "metadata": {},
     "output_type": "execute_result"
    }
   ],
   "source": [
    "rank_by_frequency(query='The gorvernment is working with all people to build better future')"
   ]
  },
  {
   "cell_type": "markdown",
   "metadata": {},
   "source": [
    "### 3.2. Requête par tf_idf"
   ]
  },
  {
   "cell_type": "markdown",
   "metadata": {},
   "source": [
    "$$\\mathrm{tfidf_{i,j}} = \\mathrm{tf_{i,j}} \\cdot  \\mathrm{idf_{i}}$$"
   ]
  },
  {
   "cell_type": "markdown",
   "metadata": {
    "slideshow": {
     "slide_type": "fragment"
    }
   },
   "source": [
    "La formule utilisée par scikit-learn est : $\\mathrm{idf_i} =  1 + \\log \\frac{|D| + 1}{|\\{d_{j}: t_{i} \\in d_{j}\\}|}$ et $\\mathrm{tf_{i,j}}$ est le nombre d'occurences du terme $ t_{i} $ dans le document $d_{j}.$\n",
    "\n",
    "* $|D|~$ : nombre total de documents dans le corpus ;\n",
    "* $|\\{d_{j} : t_{i} \\in d_{j}\\}|$ : nombre de documents où le terme <math> t_{i} </math> apparaît (c'est-à-dire <math> n_{i,j} \\neq 0</math>)."
   ]
  },
  {
   "cell_type": "markdown",
   "metadata": {},
   "source": [
    "#### 3.2.1. Requête complexe dans le cas binaire"
   ]
  },
  {
   "cell_type": "markdown",
   "metadata": {},
   "source": [
    "Ici, nous ne faisons pas de normalisation. Les valeurs de la matrice tf_idf peuvent dépasser 1."
   ]
  },
  {
   "cell_type": "code",
   "execution_count": 256,
   "metadata": {},
   "outputs": [],
   "source": [
    "simple_tfidf       = TfidfVectorizer(vocabulary=vocabulary, norm=None)\n",
    "simple_counter     = CountVectorizer(vocabulary=vocabulary, binary=True) \n",
    "tf_idf_mat         = simple_tfidf.fit_transform(cleaned_docs)\n",
    "simple_counter_mat = simple_counter.fit_transform(cleaned_docs)"
   ]
  },
  {
   "cell_type": "code",
   "execution_count": 292,
   "metadata": {},
   "outputs": [],
   "source": [
    "def simple_TFIDF(query, k=10):\n",
    "    \n",
    "    cleaned_query = clean_document(query) #nettoyer la requete\n",
    "    \n",
    "    query_TFIDF = simple_tfidf.transform([query]).toarray() #tfidf de la requete\n",
    "    \n",
    "    #produit scalaire simple(somme des tfdfs des mots apparaissants dans la requête)\n",
    "    relevant_docs = pd.Series(simple_counter_mat.dot(query_TFIDF.T).flatten())\n",
    "    \n",
    "    return relevant_docs.sort_values(ascending=False)[:k]"
   ]
  },
  {
   "cell_type": "markdown",
   "metadata": {},
   "source": [
    "On tire à titre d'exemple une requête du document 759, et on regarde à quel rang le moteur arrive à le classer."
   ]
  },
  {
   "cell_type": "code",
   "execution_count": 293,
   "metadata": {},
   "outputs": [
    {
     "name": "stdout",
     "output_type": "stream",
     "text": [
      "...tional Business Machines Corp. jumped $2.50 to $156.25, both on the New York Stock Exchange, while Intel added $1.75 to $122.50 and Sun Microsystems Inc. gained $2.50 to $59.50, both on Nasdaq.\n",
      "Still, the fourth quarter has been disappointing to some PC makers, especially those that concentrate heavily on consumer sales.\n",
      "Last year this time, the release of Microsoft's Windows 95, software that makes PCs easier to use, drew lots of people to computer stores to buy their first PCs. The industry has no such attraction this year.\n",
      "In fact, analysts said, consumers were putting off computer shopping this Christmas season as the industry prepares new machines based on Intel's upcoming MMX technology. MMX-based machines, slated to be released in early 1997, will feature better video, sound and 3-D graphics.\n",
      "In late October, computer stocks slid as CompUSA Inc. and other computer retailers reported softening sales heading into the crucial Christmas season.\n",
      "\"There's no question that the quarter started out slow, but we're hopeful that things are getting better,\" said Mal Ransom, senior vice president of marketing at closely held Packard Bell NEC Inc., the second-biggest PC maker in the United States behind Compaq.\n",
      "Consumer sales appear to be improving as it gets closer to Christmas, while prices of computer components remain low, Ransom said. \"It looks like we're going to get a reasonable quarter.\"\n",
      "\n"
     ]
    }
   ],
   "source": [
    "print('...' + documents[759][1500:])"
   ]
  },
  {
   "cell_type": "code",
   "execution_count": 294,
   "metadata": {},
   "outputs": [
    {
     "data": {
      "text/plain": [
       "796     16.430138\n",
       "1985    16.430138\n",
       "2071    16.430138\n",
       "530     16.430138\n",
       "759     16.430138\n",
       "2059    16.430138\n",
       "519     16.430138\n",
       "2349    13.192940\n",
       "2079    13.192940\n",
       "2076    13.192940\n",
       "dtype: float64"
      ]
     },
     "execution_count": 294,
     "metadata": {},
     "output_type": "execute_result"
    }
   ],
   "source": [
    "simple_TFIDF(query='consumers were putting off computer shopping this Christmas season')"
   ]
  },
  {
   "cell_type": "markdown",
   "metadata": {},
   "source": [
    "Il est classé 1er exaequo, c'est déjà pas mal."
   ]
  },
  {
   "cell_type": "code",
   "execution_count": 284,
   "metadata": {},
   "outputs": [
    {
     "data": {
      "text/plain": [
       "420     0.128814\n",
       "759     0.100304\n",
       "796     0.100304\n",
       "766     0.094118\n",
       "251     0.088235\n",
       "402     0.075085\n",
       "511     0.070632\n",
       "1985    0.069388\n",
       "795     0.059459\n",
       "2349    0.052257\n",
       "dtype: float64"
      ]
     },
     "execution_count": 284,
     "metadata": {},
     "output_type": "execute_result"
    }
   ],
   "source": [
    "rank_by_frequency('consumers were putting off computer shopping this Christmas season')"
   ]
  },
  {
   "cell_type": "markdown",
   "metadata": {},
   "source": [
    "Mais on voit bien que le scoring pra fréquence est mieux, car la page ressort en 2e position."
   ]
  },
  {
   "cell_type": "markdown",
   "metadata": {},
   "source": [
    "#### Sans utiliser sklearn (espace vectoriel)"
   ]
  },
  {
   "cell_type": "code",
   "execution_count": 85,
   "metadata": {},
   "outputs": [],
   "source": [
    "# creation des idfs\n",
    "idfs=[]\n",
    "index_series = pd.Series(index)\n",
    "for i in range(len(vocabulary)):\n",
    "    idfs.append(np.log((1+len(documents))/(1+len(index_series[i]))))"
   ]
  },
  {
   "cell_type": "code",
   "execution_count": 92,
   "metadata": {
    "slideshow": {
     "slide_type": "-"
    }
   },
   "outputs": [],
   "source": [
    "# construction de la matrice à partir de l'index\n",
    "vocabulary = list(vocabulary)\n",
    "def build_M(index_series):\n",
    "    rows=[]\n",
    "    columns=[]\n",
    "    values=[]\n",
    "    for i in range(len(vocabulary)):\n",
    "        for j in index_series[vocabulary[i]]:\n",
    "            columns.append(i)\n",
    "            rows.append(j['num_doc'])\n",
    "            values.append(idfs[i]*(j['nb_fois']/j['len_doc']))\n",
    "    matrice=coo_matrix((values, (rows, columns)), shape=(len(documents), len(vocabulary))).toarray()\n",
    "    return matrice"
   ]
  },
  {
   "cell_type": "code",
   "execution_count": 110,
   "metadata": {},
   "outputs": [],
   "source": [
    "A = build_M(index_series)"
   ]
  },
  {
   "cell_type": "code",
   "execution_count": 105,
   "metadata": {},
   "outputs": [],
   "source": [
    "def queryTFIDF(query):\n",
    "    query_list = clean_document(query).split(' ')\n",
    "    values=[]\n",
    "    columns=[]\n",
    "    rows=[]\n",
    "    for i in query_list:\n",
    "        if i in vocabulary:\n",
    "            values.append(((query_list.count(i)/len(query_list))*idfs[vocabulary.index(i)]))\n",
    "            columns.append(vocabulary.index(i))\n",
    "            rows.append(0)\n",
    "    vecteur=coo_matrix((values, (rows, columns)), shape=(1, len(vocabulary))).toarray() \n",
    "    return vecteur"
   ]
  },
  {
   "cell_type": "code",
   "execution_count": 124,
   "metadata": {},
   "outputs": [
    {
     "data": {
      "text/plain": [
       "array([0., 0., 0., ..., 0., 0., 0.])"
      ]
     },
     "execution_count": 124,
     "metadata": {},
     "output_type": "execute_result"
    }
   ],
   "source": [
    "q = queryTFIDF('consumers were putting off computer shopping this Christmas season').flatten()\n",
    "q"
   ]
  },
  {
   "cell_type": "code",
   "execution_count": 125,
   "metadata": {},
   "outputs": [
    {
     "data": {
      "text/plain": [
       "759     0.432611\n",
       "796     0.432611\n",
       "420     0.402974\n",
       "2349    0.396700\n",
       "1985    0.348238\n",
       "          ...   \n",
       "1470    0.000000\n",
       "1471    0.000000\n",
       "1472    0.000000\n",
       "1473    0.000000\n",
       "1249    0.000000\n",
       "Length: 2500, dtype: float64"
      ]
     },
     "execution_count": 125,
     "metadata": {},
     "output_type": "execute_result"
    }
   ],
   "source": [
    "#score trié par Produit scalaire ()\n",
    "pd.Series(A.dot(q.T)).sort_values(ascending=False)"
   ]
  },
  {
   "cell_type": "markdown",
   "metadata": {},
   "source": [
    "#### 3.2.2. Requête complexe avec agregation"
   ]
  },
  {
   "cell_type": "code",
   "execution_count": 115,
   "metadata": {},
   "outputs": [],
   "source": [
    "#On choisit la somme\n",
    "def queryBinary(query):\n",
    "    query_list = clean_document(query).split(' ')\n",
    "    q = np.zeros(len(vocabulary))\n",
    "    for word in query_list:\n",
    "        if word in vocabulary:\n",
    "            q[vocabulary.index(word)] = 1\n",
    "    return q"
   ]
  },
  {
   "cell_type": "code",
   "execution_count": 126,
   "metadata": {},
   "outputs": [
    {
     "data": {
      "text/plain": [
       "6.0"
      ]
     },
     "execution_count": 126,
     "metadata": {},
     "output_type": "execute_result"
    }
   ],
   "source": [
    "q = queryBinary('consumers were putting off computer shopping this Christmas season').flatten()\n",
    "q.sum()"
   ]
  },
  {
   "cell_type": "code",
   "execution_count": 127,
   "metadata": {},
   "outputs": [
    {
     "data": {
      "text/plain": [
       "420     0.528434\n",
       "796     0.483618\n",
       "759     0.483618\n",
       "766     0.380867\n",
       "251     0.363740\n",
       "          ...   \n",
       "1470    0.000000\n",
       "1471    0.000000\n",
       "1472    0.000000\n",
       "1473    0.000000\n",
       "1249    0.000000\n",
       "Length: 2500, dtype: float64"
      ]
     },
     "execution_count": 127,
     "metadata": {},
     "output_type": "execute_result"
    }
   ],
   "source": [
    "#tri meilleur score par somme\n",
    "pd.Series(A.dot(q.T)).sort_values(ascending=False)"
   ]
  },
  {
   "cell_type": "code",
   "execution_count": 140,
   "metadata": {},
   "outputs": [],
   "source": [
    "### Agregation avec max\n",
    "\n",
    "def queryArgmax(query):\n",
    "    query_list = clean_document(query).split(' ')\n",
    "    l = []\n",
    "    for i in query_list:\n",
    "        if i in vocabulary:\n",
    "            l.append(vocabulary.index(i))\n",
    "    \n",
    "    A[:,l].argmax()\n",
    "    return pd.Series(A[:,l].max(axis=1)).sort_values(ascending=False)"
   ]
  },
  {
   "cell_type": "code",
   "execution_count": 141,
   "metadata": {},
   "outputs": [
    {
     "data": {
      "text/plain": [
       "420     0.316397\n",
       "2349    0.287962\n",
       "766     0.274521\n",
       "543     0.258959\n",
       "508     0.209068\n",
       "          ...   \n",
       "1470    0.000000\n",
       "1471    0.000000\n",
       "1472    0.000000\n",
       "1473    0.000000\n",
       "1249    0.000000\n",
       "Length: 2500, dtype: float64"
      ]
     },
     "execution_count": 141,
     "metadata": {},
     "output_type": "execute_result"
    }
   ],
   "source": [
    "queryArgmax('consumers were putting off computer shopping this Christmas season')"
   ]
  },
  {
   "cell_type": "markdown",
   "metadata": {},
   "source": [
    "Nous voyons que pour es deux méthodes il y a des documents similaires qui apparaissent (420)."
   ]
  },
  {
   "cell_type": "markdown",
   "metadata": {},
   "source": [
    "#### 3.2.3. Requête avec espace vectoriel sur sklearn"
   ]
  },
  {
   "cell_type": "code",
   "execution_count": 297,
   "metadata": {},
   "outputs": [
    {
     "data": {
      "text/plain": [
       "<2500x22241 sparse matrix of type '<class 'numpy.float64'>'\n",
       "\twith 377783 stored elements in Compressed Sparse Row format>"
      ]
     },
     "execution_count": 297,
     "metadata": {},
     "output_type": "execute_result"
    }
   ],
   "source": [
    "# Initialisation du parser\n",
    "vect_tfidf     = TfidfVectorizer(vocabulary=vocabulary, norm='l1')\n",
    "vect_tfidf_mat = vect_tfidf.fit_transform(documents)\n",
    "vect_tfidf_mat"
   ]
  },
  {
   "cell_type": "code",
   "execution_count": 300,
   "metadata": {},
   "outputs": [],
   "source": [
    "def vect_TFIDF(query, k=10):\n",
    "    cleaned_query = clean_document(query) #nettoyer la requete\n",
    "    \n",
    "    query_TFIDF = vect_tfidf.transform([query]).toarray() #tfidf de la requete\n",
    "    \n",
    "    #similarité cosinus\n",
    "    relevant_docs = pd.Series(cosine_similarity(query_TFIDF, vect_tfidf_mat).flatten())\n",
    "    \n",
    "    return relevant_docs.sort_values(ascending=False)[:k]"
   ]
  },
  {
   "cell_type": "code",
   "execution_count": 301,
   "metadata": {},
   "outputs": [
    {
     "data": {
      "text/plain": [
       "2349    0.372517\n",
       "796     0.339876\n",
       "759     0.337757\n",
       "2059    0.315469\n",
       "2071    0.285735\n",
       "511     0.254087\n",
       "1985    0.240941\n",
       "2079    0.239350\n",
       "519     0.221630\n",
       "2066    0.205284\n",
       "dtype: float64"
      ]
     },
     "execution_count": 301,
     "metadata": {},
     "output_type": "execute_result"
    }
   ],
   "source": [
    "vect_TFIDF('consumers were putting off computer shopping this Christmas season')"
   ]
  },
  {
   "cell_type": "markdown",
   "metadata": {},
   "source": [
    "Il est classé 3e ici."
   ]
  }
 ],
 "metadata": {
  "celltoolbar": "Diaporama",
  "kernelspec": {
   "display_name": "Python 3",
   "language": "python",
   "name": "python3"
  },
  "language_info": {
   "codemirror_mode": {
    "name": "ipython",
    "version": 3
   },
   "file_extension": ".py",
   "mimetype": "text/x-python",
   "name": "python",
   "nbconvert_exporter": "python",
   "pygments_lexer": "ipython3",
   "version": "3.7.4"
  }
 },
 "nbformat": 4,
 "nbformat_minor": 4
}
